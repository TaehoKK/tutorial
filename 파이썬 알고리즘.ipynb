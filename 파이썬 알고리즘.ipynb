{
 "cells": [
  {
   "cell_type": "markdown",
   "id": "767fab74",
   "metadata": {},
   "source": [
    "## 1-1"
   ]
  },
  {
   "cell_type": "markdown",
   "id": "9ceaf5d1",
   "metadata": {},
   "source": [
    "### 순차 탐색"
   ]
  },
  {
   "cell_type": "code",
   "execution_count": 10,
   "id": "f8c666d2",
   "metadata": {},
   "outputs": [],
   "source": [
    "def seqsearch (n, S, x):\n",
    "    location = 1\n",
    "    while location <= n and S[location] != x:\n",
    "        location +=1\n",
    "    if location >n:\n",
    "        location = 0\n",
    "    return location"
   ]
  },
  {
   "cell_type": "code",
   "execution_count": 11,
   "id": "68fd56fd",
   "metadata": {},
   "outputs": [
    {
     "name": "stdout",
     "output_type": "stream",
     "text": [
      "5\n"
     ]
    }
   ],
   "source": [
    "S = [0,10,7,11,5,13,8]\n",
    "x=13\n",
    "location = seqsearch(len(S)-1,S,x)\n",
    "print(location)"
   ]
  },
  {
   "cell_type": "markdown",
   "id": "062e26c4",
   "metadata": {},
   "source": [
    "### 리스트 원소의 합"
   ]
  },
  {
   "cell_type": "code",
   "execution_count": 46,
   "id": "39b58195",
   "metadata": {},
   "outputs": [],
   "source": [
    "def sum(S,n):\n",
    "    result = 0\n",
    "    for i in range(0, n):\n",
    "        result = result + S[i]\n",
    "    return result"
   ]
  },
  {
   "cell_type": "code",
   "execution_count": 47,
   "id": "e960430b",
   "metadata": {},
   "outputs": [
    {
     "name": "stdout",
     "output_type": "stream",
     "text": [
      "53\n"
     ]
    }
   ],
   "source": [
    "S = [-1,10,7,11,5,13,8]\n",
    "sum=sum(S,len(S))\n",
    "print(sum)"
   ]
  },
  {
   "cell_type": "code",
   "execution_count": 48,
   "id": "bd68c7fd",
   "metadata": {},
   "outputs": [
    {
     "data": {
      "text/plain": [
       "54"
      ]
     },
     "execution_count": 48,
     "metadata": {},
     "output_type": "execute_result"
    }
   ],
   "source": [
    "10+7+11+5+13+8"
   ]
  },
  {
   "cell_type": "markdown",
   "id": "0b777467",
   "metadata": {},
   "source": [
    "### 정렬 문제"
   ]
  },
  {
   "cell_type": "code",
   "execution_count": 52,
   "id": "85320fde",
   "metadata": {},
   "outputs": [],
   "source": [
    "def exchange(S,n):\n",
    "    n = len(S)\n",
    "    for i in range(n-1): # 0부터 n-2까지\n",
    "        for j in range(i+1,n): # i+1부터 n-1까지\n",
    "            if S[i] > S[j]:\n",
    "                S[i], S[j] = S[j], S[i] # swap"
   ]
  },
  {
   "cell_type": "code",
   "execution_count": 62,
   "id": "f3335802",
   "metadata": {},
   "outputs": [
    {
     "name": "stdout",
     "output_type": "stream",
     "text": [
      "[-1, 10, 7, 11, 5, 13, 8]\n"
     ]
    }
   ],
   "source": [
    "S = [-1, 10, 7, 11, 5, 13, 8]\n",
    "print(S)"
   ]
  },
  {
   "cell_type": "code",
   "execution_count": 63,
   "id": "fddf9eda",
   "metadata": {},
   "outputs": [],
   "source": [
    "exchange(S,len(S))"
   ]
  },
  {
   "cell_type": "code",
   "execution_count": 64,
   "id": "4c87c04f",
   "metadata": {},
   "outputs": [
    {
     "name": "stdout",
     "output_type": "stream",
     "text": [
      "[-1, 5, 7, 8, 10, 11, 13]\n"
     ]
    }
   ],
   "source": [
    "print(S)"
   ]
  },
  {
   "cell_type": "markdown",
   "id": "8ddfc29c",
   "metadata": {},
   "source": []
  },
  {
   "cell_type": "code",
   "execution_count": 65,
   "id": "bc66ec17",
   "metadata": {},
   "outputs": [],
   "source": [
    "def matrixmult (n,A,B):\n",
    "    n=len(A)\n",
    "    C=[[0]*n for _ in range(n)] # 초기화, [00]반복 \n",
    "    for i in range(n): # 0부터 n-1까지\n",
    "        for j in range(n):\n",
    "            for k in range(n):\n",
    "                C[i][j] += A[i][k] * B[k][j]\n",
    "    return C"
   ]
  },
  {
   "cell_type": "code",
   "execution_count": 68,
   "id": "cecbe9ec",
   "metadata": {},
   "outputs": [
    {
     "name": "stdout",
     "output_type": "stream",
     "text": [
      "[[2, 3], [4, 1]]\n",
      "[[5, 7], [6, 8]]\n"
     ]
    }
   ],
   "source": [
    "A = [[2, 3], [4,1]]\n",
    "B = [[5, 7], [6,8]]\n",
    "print(A)\n",
    "print(B)"
   ]
  },
  {
   "cell_type": "code",
   "execution_count": 71,
   "id": "19ea6089",
   "metadata": {},
   "outputs": [
    {
     "name": "stdout",
     "output_type": "stream",
     "text": [
      "[[28, 38], [26, 36]]\n"
     ]
    }
   ],
   "source": [
    "C = matrixmult(len(A),A,B)\n",
    "print(C)"
   ]
  },
  {
   "cell_type": "markdown",
   "id": "c239203b",
   "metadata": {},
   "source": [
    " "
   ]
  },
  {
   "cell_type": "markdown",
   "id": "ef29e386",
   "metadata": {},
   "source": []
  },
  {
   "cell_type": "code",
   "execution_count": 96,
   "id": "7c9d785b",
   "metadata": {},
   "outputs": [],
   "source": [
    "def binsearch(n,S,x):\n",
    "    low = 1\n",
    "    high = n\n",
    "    location = 0\n",
    "    while low <= high and location ==0:\n",
    "        mid = (low + high) //2\n",
    "        print(low,mid,high)\n",
    "        if x==S[mid]:\n",
    "            location = mid\n",
    "        elif x<S[mid]:\n",
    "            high = mid-1\n",
    "        else:\n",
    "            low = mid+1\n",
    "    return location"
   ]
  },
  {
   "cell_type": "code",
   "execution_count": 99,
   "id": "710c2985",
   "metadata": {},
   "outputs": [
    {
     "name": "stdout",
     "output_type": "stream",
     "text": [
      "1 3 6\n",
      "4 5 6\n",
      "6 6 6\n"
     ]
    }
   ],
   "source": [
    "S = [-1,5,7,8,10,11,13]\n",
    "x = 13\n",
    "location = binsearch(len(S)-1,S,x)"
   ]
  },
  {
   "cell_type": "code",
   "execution_count": 100,
   "id": "86c4fe23",
   "metadata": {
    "scrolled": true
   },
   "outputs": [
    {
     "name": "stdout",
     "output_type": "stream",
     "text": [
      "[-1, 5, 7, 8, 10, 11, 13]\n",
      "13\n",
      "6\n"
     ]
    }
   ],
   "source": [
    "print(S)\n",
    "print(x)\n",
    "print(location)"
   ]
  },
  {
   "cell_type": "markdown",
   "id": "9118d7a5",
   "metadata": {},
   "source": []
  },
  {
   "cell_type": "code",
   "execution_count": null,
   "id": "5d7c6d4f",
   "metadata": {},
   "outputs": [],
   "source": []
  },
  {
   "cell_type": "code",
   "execution_count": null,
   "id": "5e70769a",
   "metadata": {},
   "outputs": [],
   "source": []
  },
  {
   "cell_type": "code",
   "execution_count": null,
   "id": "703f4863",
   "metadata": {},
   "outputs": [],
   "source": []
  }
 ],
 "metadata": {
  "kernelspec": {
   "display_name": "Python 3 (ipykernel)",
   "language": "python",
   "name": "python3"
  },
  "language_info": {
   "codemirror_mode": {
    "name": "ipython",
    "version": 3
   },
   "file_extension": ".py",
   "mimetype": "text/x-python",
   "name": "python",
   "nbconvert_exporter": "python",
   "pygments_lexer": "ipython3",
   "version": "3.9.13"
  }
 },
 "nbformat": 4,
 "nbformat_minor": 5
}
